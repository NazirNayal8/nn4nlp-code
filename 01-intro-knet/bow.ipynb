{
 "cells": [
  {
   "outputs": [],
   "cell_type": "markdown",
   "source": [
    "# Bag of Words (BOW) model"
   ],
   "metadata": {}
  },
  {
   "outputs": [],
   "cell_type": "code",
   "source": [
    "using Knet: Param, @diff, grad, params, KnetArray\n",
    "using Random: shuffle!"
   ],
   "metadata": {},
   "execution_count": null
  },
  {
   "outputs": [],
   "cell_type": "markdown",
   "source": [
    "Data has one instance per line, class and sentence separated by `|||`, for example:\n",
    "\n",
    "    4 ||| A warm , funny , engaging film .\n",
    "\n",
    "`readdata(file)` reads the file and returns an array of (x,y) pairs where x is a sequence\n",
    "of word ids for a sentence, and y is a tag id. Uses `w2i` and `t2i` functions to turn\n",
    "words and tags to integers."
   ],
   "metadata": {}
  },
  {
   "outputs": [],
   "cell_type": "code",
   "source": [
    "function readdata(file)\n",
    "    data = []\n",
    "    for line in eachline(file)\n",
    "        tag, sentence = split(strip(lowercase(line)), \" ||| \")\n",
    "        wordids = w2i.(split(sentence))\n",
    "        tagid = t2i(tag)\n",
    "        push!(data, (wordids, tagid))\n",
    "    end\n",
    "    return data\n",
    "end"
   ],
   "metadata": {},
   "execution_count": null
  },
  {
   "outputs": [],
   "cell_type": "markdown",
   "source": [
    "Before reading the training data, we initalize the word->id and tag->id dictionaries and\n",
    "functions and the unknown word tag `\"<unk>\"`."
   ],
   "metadata": {}
  },
  {
   "outputs": [],
   "cell_type": "code",
   "source": [
    "wdict = Dict()\n",
    "tdict = Dict()\n",
    "w2i(x) = get!(wdict, x, 1+length(wdict))\n",
    "t2i(x) = get!(tdict, x, 1+length(tdict))\n",
    "UNK = w2i(\"<unk>\")"
   ],
   "metadata": {},
   "execution_count": null
  },
  {
   "outputs": [],
   "cell_type": "markdown",
   "source": [
    "Load the training data and peek at the first instance:"
   ],
   "metadata": {}
  },
  {
   "outputs": [],
   "cell_type": "code",
   "source": [
    "trn = readdata(\"../data/classes/train.txt\")\n",
    "first(trn)"
   ],
   "metadata": {},
   "execution_count": null
  },
  {
   "outputs": [],
   "cell_type": "markdown",
   "source": [
    "Before reading the dev/test data, we change the word->id function to return UNK for\n",
    "unknown words and tag->id function to error for unknown tags."
   ],
   "metadata": {}
  },
  {
   "outputs": [],
   "cell_type": "code",
   "source": [
    "w2i(x) = get(wdict, x, UNK)     # unk if not found\n",
    "t2i(x) = tdict[x]               # error if not found"
   ],
   "metadata": {},
   "execution_count": null
  },
  {
   "outputs": [],
   "cell_type": "markdown",
   "source": [
    "Load the dev/test data and print the number of instances:"
   ],
   "metadata": {}
  },
  {
   "outputs": [],
   "cell_type": "code",
   "source": [
    "dev = readdata(\"../data/classes/dev.txt\")\n",
    "tst = readdata(\"../data/classes/test.txt\")\n",
    "length.((trn, dev, tst))"
   ],
   "metadata": {},
   "execution_count": null
  },
  {
   "outputs": [],
   "cell_type": "markdown",
   "source": [
    "Use KnetArray to initialize parameters on GPU, use Array to initialize on CPU:"
   ],
   "metadata": {}
  },
  {
   "outputs": [],
   "cell_type": "code",
   "source": [
    "# param(dims...) = Param(Array(0.01f0 * randn(Float32, dims...)))\n",
    "param(dims...) = Param(KnetArray(0.01f0 * randn(Float32, dims...)))"
   ],
   "metadata": {},
   "execution_count": null
  },
  {
   "outputs": [],
   "cell_type": "markdown",
   "source": [
    "Initialize the parameters of the BOW model as global variables W and b."
   ],
   "metadata": {}
  },
  {
   "outputs": [],
   "cell_type": "code",
   "source": [
    "nwords = length(wdict)\n",
    "ntags = length(tdict)\n",
    "W = param(ntags, nwords)\n",
    "b = param(ntags)"
   ],
   "metadata": {},
   "execution_count": null
  },
  {
   "outputs": [],
   "cell_type": "markdown",
   "source": [
    "Here is the prediction function for the BOW model:"
   ],
   "metadata": {}
  },
  {
   "outputs": [],
   "cell_type": "code",
   "source": [
    "pred(words) = b .+ sum(W[:,words], dims=2)"
   ],
   "metadata": {},
   "execution_count": null
  },
  {
   "outputs": [],
   "cell_type": "markdown",
   "source": [
    "Here is the loss function for the BOW model:"
   ],
   "metadata": {}
  },
  {
   "outputs": [],
   "cell_type": "code",
   "source": [
    "function loss(words, tag)\n",
    "    scores = pred(words)\n",
    "    logprobs = scores .- log(sum(exp.(scores)))\n",
    "    -logprobs[tag]\n",
    "end"
   ],
   "metadata": {},
   "execution_count": null
  },
  {
   "outputs": [],
   "cell_type": "markdown",
   "source": [
    "We use the following to report accuracy during training:"
   ],
   "metadata": {}
  },
  {
   "outputs": [],
   "cell_type": "code",
   "source": [
    "accuracy(data) = sum(argmax(pred(x))[1] == y for (x,y) in data) / length(data)"
   ],
   "metadata": {},
   "execution_count": null
  },
  {
   "outputs": [],
   "cell_type": "markdown",
   "source": [
    "Here is the SGD training loop:"
   ],
   "metadata": {}
  },
  {
   "outputs": [],
   "cell_type": "code",
   "source": [
    "function train(; nepochs = 10, lr = 0.01)\n",
    "    for epoch in 1:nepochs\n",
    "        shuffle!(trn)\n",
    "        for (x,y) in trn\n",
    "            ∇loss = @diff loss(x,y)\n",
    "            for p in params(∇loss)\n",
    "                p .= p - lr * grad(∇loss, p)\n",
    "            end\n",
    "        end\n",
    "        println((epoch = epoch, trn = accuracy(trn), dev = accuracy(dev)))\n",
    "    end\n",
    "end"
   ],
   "metadata": {},
   "execution_count": null
  },
  {
   "outputs": [],
   "cell_type": "markdown",
   "source": [
    "*This notebook was generated using [Literate.jl](https://github.com/fredrikekre/Literate.jl).*"
   ],
   "metadata": {}
  }
 ],
 "nbformat_minor": 3,
 "metadata": {
  "language_info": {
   "file_extension": ".jl",
   "mimetype": "application/julia",
   "name": "julia",
   "version": "1.2.0"
  },
  "kernelspec": {
   "name": "julia-1.2",
   "display_name": "Julia 1.2.0",
   "language": "julia"
  }
 },
 "nbformat": 4
}
