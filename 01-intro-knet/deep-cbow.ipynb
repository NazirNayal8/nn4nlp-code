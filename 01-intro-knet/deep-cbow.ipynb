{
 "cells": [
  {
   "outputs": [],
   "cell_type": "markdown",
   "source": [
    "# Deep Continuous Bag of Words (DeepCBOW) Model"
   ],
   "metadata": {}
  },
  {
   "outputs": [],
   "cell_type": "code",
   "source": [
    "include(\"bow.jl\")"
   ],
   "metadata": {},
   "execution_count": null
  },
  {
   "outputs": [],
   "cell_type": "markdown",
   "source": [
    "This time after mapping the words to embeddings and adding up these embeddings we pass\n",
    "them through a couple linear + tanh layers."
   ],
   "metadata": {}
  },
  {
   "outputs": [],
   "cell_type": "code",
   "source": [
    "function pred(words)\n",
    "    h = sum(W_emb[:,words], dims=2)\n",
    "    for (w,b) in zip(W_h, b_h)\n",
    "        h = tanh.(w * h .+ b)\n",
    "    end\n",
    "    return W_sm * h .+ b_sm\n",
    "end"
   ],
   "metadata": {},
   "execution_count": null
  },
  {
   "outputs": [],
   "cell_type": "markdown",
   "source": [
    "Again, we only need to change the prediction function and the parameters:"
   ],
   "metadata": {}
  },
  {
   "outputs": [],
   "cell_type": "code",
   "source": [
    "EMB_SIZE = 64\n",
    "HID_SIZE = 64\n",
    "HID_LAY = 2\n",
    "W_emb = param(EMB_SIZE, nwords)\n",
    "W_h = [ param(HID_SIZE, lay == 1 ? EMB_SIZE : HID_SIZE) for lay in 1:HID_LAY ]\n",
    "b_h = [ param(HID_SIZE) for lay in 1:HID_LAY ]\n",
    "W_sm = param(ntags, HID_SIZE)\n",
    "b_sm = param(ntags)"
   ],
   "metadata": {},
   "execution_count": null
  },
  {
   "outputs": [],
   "cell_type": "markdown",
   "source": [
    "Bonus question: can this model represent a function that the CBOW model cannot represent?"
   ],
   "metadata": {}
  },
  {
   "outputs": [],
   "cell_type": "code",
   "source": [
    "train()"
   ],
   "metadata": {},
   "execution_count": null
  },
  {
   "outputs": [],
   "cell_type": "markdown",
   "source": [
    "*This notebook was generated using [Literate.jl](https://github.com/fredrikekre/Literate.jl).*"
   ],
   "metadata": {}
  }
 ],
 "nbformat_minor": 3,
 "metadata": {
  "language_info": {
   "file_extension": ".jl",
   "mimetype": "application/julia",
   "name": "julia",
   "version": "1.2.0"
  },
  "kernelspec": {
   "name": "julia-1.2",
   "display_name": "Julia 1.2.0",
   "language": "julia"
  }
 },
 "nbformat": 4
}
